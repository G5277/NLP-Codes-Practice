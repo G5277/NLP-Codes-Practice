{
 "cells": [
  {
   "cell_type": "markdown",
   "id": "e808f187",
   "metadata": {},
   "source": [
    "### Install a Few Additional Packages\n",
    "\n",
    "There are a few additional packages we'll be using during the tutorial that are not included when you download Anaconda - wordcloud, textblob and gensim.\n",
    "\n",
    "Open the Anaconda Prompt program. You should see a black window pop up. Type `conda install -c conda-forge wordcloud` to download wordcloud. You will be asked whether you want to proceed or not. Type `y` for yes. Once that is done, type `conda install -c conda-forge textblob` to download textblob and `y` to proceed, and type `conda install -c conda-forge gensim` to download gensim and `y` to proceed."
   ]
  },
  {
   "cell_type": "markdown",
   "id": "e7dfc4bf",
   "metadata": {},
   "source": [
    "|  |  |  |\n",
    "| --- | --- | --- |\n",
    "| Programming | Data | pandas, sklearn, re, nltk |\n",
    "| | NLP| TextBlob, gensim |         \n",
    "| Mathemetics & Statistics |Clean | corpus, document-term matrix |\n",
    "| | EDA | word counts |\n",
    "| | NLP | sentiment analysis,topic modeling, text generation |\n",
    "| Communication | Design | scope, visualize, extract insights|\n",
    "|| Domain | expertise |\n"
   ]
  },
  {
   "cell_type": "markdown",
   "id": "94aef0c1",
   "metadata": {},
   "source": [
    "\n",
    "For NLP through Python(or any other programming) you need sets of skill:\n",
    "1. Programming\n",
    "2. Maths & stats\n",
    "3. Communication\n",
    "\n",
    "We will go through over all three types of skills. \n",
    "In programming set of skill, we will use some Python libraries. For data analysis pandas will be used, we also need regular expression for text data. scikit-learn a great tool for data science has a lot of machine learnin tools. We will use it ot format some of our data.  Some couple of NLP libraries like NLTK natural language tool, textBlob built on NLTK and gensim for topic modeling. These are set of skill you require from Python.\n",
    "\n",
    "You need to understand concepts for interpritation of results. You need to clean raw data  and put in appropriate format for further processing. So the raw text data is general corpus format, then document term metrix. You need to do some exploratory data analysis(EDA) that generate and use word counts. Then three NLP skill sentiment analysis, topic modeling and text generation. Then finally there's this communication piece and usually all the soft skills. It has two parts. There is a design piece which is all about how you design a project and this is so important whenever I advise my students I find that this is where they struggle the most. So, just figuring out if you have a question like where to start, how do you scope out your project, what insights can you draw from that data, what visualizations can you make to communicate things more effectively. So, that's all about design. Then finally having some type of domain expertise is really important. \n"
   ]
  },
  {
   "cell_type": "markdown",
   "id": "1b25ad88",
   "metadata": {},
   "source": [
    "# Data Science Workflow\n",
    "\n",
    "NLP is a sub-domain of Data Science, so, start with introduction to general workflow in Data Science.\n",
    "1. Start with a Question\n",
    "2. Get & Clean the Data\n",
    "3. Perform EDA\n",
    "4. Apply Techniques\n",
    "5. Share Insights\n"
   ]
  },
  {
   "cell_type": "markdown",
   "id": "ae048a86",
   "metadata": {},
   "source": [
    "# A simple example"
   ]
  },
  {
   "cell_type": "markdown",
   "id": "4570f66a",
   "metadata": {},
   "source": [
    "### 1. Start with a Question\n",
    "\"If I study more, will I get a higher grade?\"\n",
    " \n",
    " Now, what data is required to answer this question?\n",
    " ->studies hours and grade of some students!\n",
    " \n",
    " | Student | Studied hours | Grade |\n",
    " | --- | --- | --- | \n",
    " | Naman | 25 | 10 |\n",
    " | Ankit | 7 | 7 |\n",
    " | Palak | Ten | 8 |\n",
    " | Ramu | 15 | 101 |"
   ]
  },
  {
   "cell_type": "markdown",
   "id": "1f41ec52",
   "metadata": {},
   "source": [
    "#### Assignment: \n",
    "1. Clean the data manualy.\n",
    "2. Add more row to above data and share with your friend. Your friend will clean it."
   ]
  },
  {
   "cell_type": "markdown",
   "id": "3ccf6464",
   "metadata": {},
   "source": [
    "### 2.  Get and Clean the data\n",
    "| Student | Studied hours | Grade |\n",
    " | --- | --- | --- | \n",
    " | Naman | 25 | 10 |\n",
    " | Ankit | 7 | 7 |\n",
    " | Palak | 10 | 8 |\n",
    " | Ramu | 15 | 10 |"
   ]
  },
  {
   "cell_type": "markdown",
   "id": "d04ad54a",
   "metadata": {},
   "source": [
    "### 3. Perform EDA\n",
    "#### Assignment: \n",
    "1. Perform EDA on cleaned data.(Hint plot the data) \n",
    "2. Write atleat two observation from EDA."
   ]
  },
  {
   "cell_type": "code",
   "execution_count": 1,
   "id": "798656bf",
   "metadata": {
    "scrolled": true
   },
   "outputs": [
    {
     "data": {
      "text/plain": [
       "<matplotlib.collections.PathCollection at 0x1d23b4194f0>"
      ]
     },
     "execution_count": 1,
     "metadata": {},
     "output_type": "execute_result"
    },
    {
     "data": {
      "image/png": "[encoded data removed]",
      "text/plain": [
       "<Figure size 640x480 with 1 Axes>"
      ]
     },
     "metadata": {},
     "output_type": "display_data"
    }
   ],
   "source": [
    "import matplotlib.pyplot as plt\n",
    "studied_hours=[25, 7, 10, 15] #Try to import the data from \n",
    "grade=[10, 7, 8, 10]          # text file containing the data in same format.\n",
    "plt.scatter(grade, studied_hours)"
   ]
  },
  {
   "cell_type": "code",
   "execution_count": 2,
   "id": "784ae945",
   "metadata": {},
   "outputs": [],
   "source": [
    "# Data is well scattered and any amount of hours studied above 10, provides the same grade."
   ]
  },
  {
   "cell_type": "markdown",
   "id": "85a2b8f5",
   "metadata": {},
   "source": [
    "### 4. Apply Techniques\n",
    "#### Assignment: \n",
    "1. Apply a machine learning or data science technique to encode your observation in EDA. (Hint: which type of realtion is associated between hours of study and grade)"
   ]
  },
  {
   "cell_type": "markdown",
   "id": "58113c62",
   "metadata": {},
   "source": [
    "### 5. Share Insights\n",
    "#### Assignment:\n",
    "1. Is there any relation between the number of hours you study and the grade you will get? Represent the relation using graph.\n",
    "2. What is the speciffic mathemetical relationship between number of hours you study and the grade?\n",
    "3. Is there any abnormality? What conclusion you drown about abnormal data? \n",
    "\n",
    "\n"
   ]
  }
 ],
 "metadata": {
  "kernelspec": {
   "display_name": "Python 3",
   "language": "python",
   "name": "python3"
  },
  "language_info": {
   "codemirror_mode": {
    "name": "ipython",
    "version": 3
   },
   "file_extension": ".py",
   "mimetype": "text/x-python",
   "name": "python",
   "nbconvert_exporter": "python",
   "pygments_lexer": "ipython3",
   "version": "3.12.7"
  }
 },
 "nbformat": 4,
 "nbformat_minor": 5
}
